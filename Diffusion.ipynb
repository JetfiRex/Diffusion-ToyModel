{
 "cells": [
  {
   "metadata": {
    "ExecuteTime": {
     "end_time": "2025-09-16T18:30:25.211699Z",
     "start_time": "2025-09-16T18:30:25.185027Z"
    }
   },
   "cell_type": "code",
   "source": [
    "from inspect import stack\n",
    "\n",
    "import numpy as np\n",
    "import torch\n",
    "import matplotlib.pyplot as plt\n",
    "from torch.utils.data import DataLoader\n",
    "from smalldiffusion import (\n",
    "    TimeInputMLP, ScheduleLogLinear, training_loop, samples,\n",
    "    DatasaurusDozen, Swissroll\n",
    ")"
   ],
   "id": "79a1b3b3bf2cc8af",
   "outputs": [],
   "execution_count": 83
  },
  {
   "metadata": {},
   "cell_type": "markdown",
   "source": "This is a 2-d dataset of mixed Gaussian.",
   "id": "a8fe88f48119597d"
  },
  {
   "metadata": {
    "ExecuteTime": {
     "end_time": "2025-09-18T03:23:33.233193Z",
     "start_time": "2025-09-18T03:23:33.229697Z"
    }
   },
   "cell_type": "code",
   "source": [
    "N = 1000\n",
    "dataset = (torch.randint(0,2,(N,1))*2-1)+torch.randn((N,2))*0.2"
   ],
   "id": "95d22d86c8765274",
   "outputs": [],
   "execution_count": 167
  },
  {
   "metadata": {
    "ExecuteTime": {
     "end_time": "2025-09-18T03:23:33.573724Z",
     "start_time": "2025-09-18T03:23:33.476234Z"
    }
   },
   "cell_type": "code",
   "source": "plt.scatter(dataset[:,0],dataset[:,1])",
   "id": "516fcddccd989a8b",
   "outputs": [
    {
     "data": {
      "text/plain": [
       "<matplotlib.collections.PathCollection at 0x292a0c7f110>"
      ]
     },
     "execution_count": 168,
     "metadata": {},
     "output_type": "execute_result"
    },
    {
     "data": {
      "text/plain": [
       "<Figure size 640x480 with 1 Axes>"
      ],
      "image/png": "[encoded data removed]"
     },
     "metadata": {},
     "output_type": "display_data",
     "jetTransient": {
      "display_id": null
     }
    }
   ],
   "execution_count": 168
  },
  {
   "metadata": {},
   "cell_type": "markdown",
   "source": "The following code is copied from https://github.com/yuanchenyang/smalldiffusion/blob/fc267d87e1efe552e16ecabc764bb9ab935434d9/src/smalldiffusion/diffusion.py but modified as a 2-d noise.",
   "id": "5ee93246a21a7356"
  },
  {
   "metadata": {
    "ExecuteTime": {
     "end_time": "2025-09-17T05:01:25.606614Z",
     "start_time": "2025-09-17T05:01:25.535454Z"
    }
   },
   "cell_type": "code",
   "source": [
    "import math\n",
    "from itertools import pairwise\n",
    "\n",
    "import torch\n",
    "import numpy as np\n",
    "from accelerate import Accelerator\n",
    "from torch import nn\n",
    "from torch.utils.data import DataLoader\n",
    "from tqdm import tqdm\n",
    "from types import SimpleNamespace\n",
    "from typing import Optional, Union, Tuple\n",
    "\n",
    "class Schedule:\n",
    "    '''Diffusion noise schedules parameterized by sigma'''\n",
    "    def __init__(self, sigmas: torch.FloatTensor):\n",
    "        self.sigmas = sigmas\n",
    "\n",
    "    def __getitem__(self, i) -> torch.FloatTensor:\n",
    "        return self.sigmas[i]\n",
    "\n",
    "    def __len__(self) -> int:\n",
    "        return len(self.sigmas)\n",
    "\n",
    "    def sample_sigmas(self, steps: int) -> torch.FloatTensor:\n",
    "        '''Called during sampling to get a decreasing sigma schedule with a\n",
    "        specified number of sampling steps:\n",
    "          - Spacing is \"trailing\" as in Table 2 of https://arxiv.org/abs/2305.08891\n",
    "          - Includes initial and final sigmas\n",
    "            i.e. len(schedule.sample_sigmas(steps)) == steps + 1\n",
    "        '''\n",
    "        indices = list((len(self) * (1 - np.arange(0, steps)/steps))\n",
    "                       .round().astype(np.int64) - 1)\n",
    "        return self[indices + [0]]\n",
    "\n",
    "    def sample_batch(self, x0: torch.FloatTensor) -> torch.FloatTensor:\n",
    "        '''Called during training to get a batch of randomly sampled sigma values\n",
    "        '''\n",
    "        batchsize = x0.shape[0]\n",
    "        return self[torch.randint(len(self), (batchsize,))].to(x0)\n",
    "\n",
    "def sigmas_from_betas(betas: torch.FloatTensor):\n",
    "    return (1/torch.cumprod(1.0 - betas, dim=0) - 1).sqrt()\n",
    "\n",
    "# Simple log-linear schedule works for training many diffusion models\n",
    "class ScheduleLogLinear(Schedule):\n",
    "    def __init__(self, N: int, sigma_min: float=0.02, sigma_max: float=10):\n",
    "        super().__init__(torch.logspace(math.log10(sigma_min), math.log10(sigma_max), N))\n",
    "\n",
    "# Default parameters recover schedule used in most diffusion models\n",
    "class ScheduleDDPM(Schedule):\n",
    "    def __init__(self, N: int=1000, beta_start: float=0.0001, beta_end: float=0.02):\n",
    "        super().__init__(sigmas_from_betas(torch.linspace(beta_start, beta_end, N)))\n",
    "\n",
    "# Default parameters recover schedule used in most latent diffusion models, e.g. Stable diffusion\n",
    "class ScheduleLDM(Schedule):\n",
    "    def __init__(self, N: int=1000, beta_start: float=0.00085, beta_end: float=0.012):\n",
    "        super().__init__(sigmas_from_betas(torch.linspace(beta_start**0.5, beta_end**0.5, N)**2))\n",
    "\n",
    "# Sigmoid schedule used in GeoDiff\n",
    "class ScheduleSigmoid(Schedule):\n",
    "    def __init__(self, N: int=1000, beta_start: float=0.0001, beta_end: float=0.02):\n",
    "        betas = torch.sigmoid(torch.linspace(-6, 6, N)) * (beta_end - beta_start) + beta_start\n",
    "        super().__init__(sigmas_from_betas(betas))\n",
    "\n",
    "# Cosine schedule used in Nichol and Dhariwal 2021\n",
    "class ScheduleCosine(Schedule):\n",
    "    def __init__(self, N: int=1000, beta_start: float=0.0001, beta_end: float=0.02, max_beta: float=0.999):\n",
    "        alpha_bar = lambda t: np.cos((t + 0.008) / 1.008 * np.pi / 2) ** 2\n",
    "        betas = [min(1 - alpha_bar((i+1)/N)/alpha_bar(i/N), max_beta)\n",
    "                 for i in range(N)]\n",
    "        super().__init__(sigmas_from_betas(torch.tensor(betas, dtype=torch.float32)))\n",
    "\n",
    "'''\n",
    "From now on, the part of training samples is changed\n",
    "'''\n",
    "# Given a batch of data\n",
    "#   x0   : Either a data tensor or a tuple of (data, labels)\n",
    "# Returns\n",
    "#   eps  : i.i.d. normal with same shape as x0\n",
    "#   sigma: uniformly sampled from schedule, with shape **same as the dataset**\n",
    "def generate_train_sample(x0: Union[torch.FloatTensor, Tuple[torch.FloatTensor, torch.FloatTensor]],\n",
    "                          schedule: Schedule, conditional: bool=False):\n",
    "    cond = x0[1] if conditional else None\n",
    "    x0   = x0[0] if conditional else x0\n",
    "    sigmas = torch.as_tensor(schedule.sigmas, device=x0.device, dtype=x0.dtype)   # make once if reused\n",
    "    idx  = torch.randint(len(sigmas), size=x0.shape, device=x0.device)\n",
    "    sigma = sigmas[idx]\n",
    "    # while len(sigma.shape) < len(x0.shape):\n",
    "    #     sigma = sigma.unsqueeze(-1)\n",
    "    eps = torch.randn_like(x0)\n",
    "    return x0, sigma, eps, cond\n",
    "\n",
    "# Model objects\n",
    "# Always called with (x, sigma):\n",
    "#   If x.shape == [B, D1, ..., Dk], sigma.shape == [] or [B, 1, ..., 1].\n",
    "#   If sigma.shape == [], model will be called with the same sigma for each x0\n",
    "#   Otherwise, x[i] will be paired with sigma[i] when calling model\n",
    "# Have a `rand_input` method for generating random xt during sampling\n",
    "\n",
    "def training_loop(loader      : DataLoader,\n",
    "                  model       : nn.Module,\n",
    "                  schedule    : Schedule,\n",
    "                  accelerator : Optional[Accelerator] = None,\n",
    "                  epochs      : int = 10000,\n",
    "                  lr          : float = 1e-3,\n",
    "                  conditional : bool = False):\n",
    "    accelerator = accelerator or Accelerator()\n",
    "    optimizer = torch.optim.AdamW(model.parameters(), lr=lr)\n",
    "    model, optimizer, loader = accelerator.prepare(model, optimizer, loader)\n",
    "    for _ in (pbar := tqdm(range(epochs))):\n",
    "        for x0 in loader:\n",
    "            model.train()\n",
    "            optimizer.zero_grad()\n",
    "            x0, sigma, eps, cond = generate_train_sample(x0, schedule, conditional)\n",
    "            loss = model.get_loss(x0, sigma, eps, cond=cond)\n",
    "            yield SimpleNamespace(**locals()) # For extracting training statistics\n",
    "            accelerator.backward(loss)\n",
    "            optimizer.step()\n"
   ],
   "id": "e3d3b9cb39872bdd",
   "outputs": [],
   "execution_count": 114
  },
  {
   "metadata": {},
   "cell_type": "markdown",
   "source": "Now we use the codes of https://github.com/yuanchenyang/smalldiffusion/blob/main/src/smalldiffusion/model.py to build a tiny model.",
   "id": "55656d3b812d7be0"
  },
  {
   "metadata": {
    "ExecuteTime": {
     "end_time": "2025-09-18T04:43:27.844754Z",
     "start_time": "2025-09-18T04:43:27.831077Z"
    }
   },
   "cell_type": "code",
   "source": [
    "import math\n",
    "import torch\n",
    "import torch.nn.functional as F\n",
    "from torch import nn\n",
    "from einops import rearrange, repeat\n",
    "from itertools import pairwise\n",
    "\n",
    "\n",
    "## Basic functions used by all models\n",
    "\n",
    "class ModelMixin:\n",
    "    def rand_input(self, batchsize):\n",
    "        assert hasattr(self, 'input_dims'), 'Model must have \"input_dims\" attribute!'\n",
    "        return torch.randn((batchsize,) + self.input_dims)\n",
    "\n",
    "    # Currently predicts eps, override following methods to predict, for example, x0\n",
    "    def get_loss(self, x0, sigma, eps, cond=None, loss=nn.MSELoss):\n",
    "        return loss()(eps, self(x0 + sigma * eps, sigma, cond=cond))\n",
    "\n",
    "    def predict_eps(self, x, sigma, cond=None):\n",
    "        return self(x, sigma, cond=cond)\n",
    "\n",
    "    def predict_eps_cfg(self, x, sigma, cond, cfg_scale):\n",
    "        if cond is None or cfg_scale == 0:\n",
    "            return self.predict_eps(x, sigma, cond=cond)\n",
    "        assert sigma.shape == tuple(), 'CFG sampling only supports singleton sigma!'\n",
    "        uncond = torch.full_like(cond, self.cond_embed.null_cond) # (B,)\n",
    "        eps_cond, eps_uncond = self.predict_eps(                  # (B,), (B,)\n",
    "            torch.cat([x, x]), sigma, torch.cat([cond, uncond])   # (2B,)\n",
    "        ).chunk(2)\n",
    "        return eps_cond + cfg_scale * (eps_cond - eps_uncond)\n",
    "\n",
    "def get_sigma_embeds(batches, sigma, scaling_factor=0.5, log_scale=True):\n",
    "    if sigma.shape == torch.Size([]):\n",
    "        sigma = sigma.unsqueeze(0).repeat(batches)\n",
    "    else:\n",
    "        assert sigma.shape == (batches,), 'sigma.shape == [] or [batches]!'\n",
    "    if log_scale:\n",
    "        sigma = torch.log(sigma)\n",
    "    s = sigma.unsqueeze(1) * scaling_factor\n",
    "    return torch.cat([torch.sin(s), torch.cos(s)], dim=1)\n",
    "\n",
    "def get_sigma_embeds_hi_dim(x_shape, sigma, scaling_factor=0.5, log_scale=True):\n",
    "    if sigma.shape == torch.Size([]):\n",
    "        sigma = sigma.unsqueeze(0).repeat(x_shape)\n",
    "    else:\n",
    "        assert sigma.shape == x_shape, 'sigma.shape == [] or [batches]!'\n",
    "    if log_scale:\n",
    "        sigma = torch.log(sigma)\n",
    "    s = sigma * scaling_factor\n",
    "    sin_s = torch.sin(s)\n",
    "    cos_s = torch.cos(s)\n",
    "    stacked_s = torch.stack([sin_s, cos_s], dim=1)\n",
    "    result = stacked_s.permute(0, 2, 1).reshape(s.shape[0], 2 * s.shape[1])\n",
    "    return result\n",
    "\n",
    "## Simple MLP for toy examples, modified a bit from the original file.\n",
    "## This is meant to predict x0 though.\n",
    "\n",
    "class TimeInputMLP(nn.Module, ModelMixin):\n",
    "    sigma_dim = 2\n",
    "    def __init__(self, dim=2, output_dim=None, hidden_dims=(16,128,256,128,16)):\n",
    "        super().__init__()\n",
    "        layers = []\n",
    "        for in_dim, out_dim in pairwise((dim*3,) + hidden_dims):\n",
    "            layers.extend([nn.Linear(in_dim, out_dim), nn.GELU()])\n",
    "        layers.append(nn.Linear(hidden_dims[-1], output_dim or dim))\n",
    "\n",
    "        self.net = nn.Sequential(*layers)\n",
    "        self.input_dims = (dim,)\n",
    "\n",
    "    def forward(self, x, sigma, cond=None):\n",
    "        # x     shape: b x dim\n",
    "        # sigma shape: b x dim\n",
    "        sigma_embeds = get_sigma_embeds_hi_dim(x.shape, sigma) # shape: b x (2*dim)\n",
    "        nn_input = torch.cat([x, sigma_embeds], dim=1)               # shape: b x (3*dim)\n",
    "        return self.net(nn_input)\n",
    "\n",
    "    def get_loss(self, x0, sigma, eps, cond=None, loss=nn.MSELoss):\n",
    "        # print(x0.shape, sigma.shape, eps.shape)\n",
    "        return loss()(x0, self(x0 + sigma * eps, sigma, cond=cond))\n",
    "\n",
    "    def predict_x0(self, x, sigma, cond=None):\n",
    "        x0_hat = self(x, sigma, cond=cond)\n",
    "        return x0_hat\n",
    "\n",
    "    def predict_eps(self, x, sigma, cond=None):\n",
    "        x0_hat = self(x, sigma, cond=cond)\n",
    "        return (x - x0_hat)/sigma\n"
   ],
   "id": "22c5364bb164732c",
   "outputs": [],
   "execution_count": 171
  },
  {
   "metadata": {},
   "cell_type": "markdown",
   "source": "Now we train!",
   "id": "4ba7daadf4f9f8cb"
  },
  {
   "metadata": {
    "ExecuteTime": {
     "end_time": "2025-09-18T04:45:26.764145Z",
     "start_time": "2025-09-18T04:43:31.471740Z"
    }
   },
   "cell_type": "code",
   "source": [
    "loader = DataLoader(dataset, batch_size=2048)\n",
    "model = TimeInputMLP(hidden_dims=(16,128,128,128,128,16))\n",
    "schedule = ScheduleLogLinear(N=200, sigma_min=0.005, sigma_max=10)\n",
    "trainer = training_loop(loader, model, schedule, epochs=15000, lr=1e-3)\n",
    "losses = [ns.loss.item() for ns in trainer]\n",
    "plt.plot(moving_average(losses, 100))\n",
    "plt.show()"
   ],
   "id": "7d34cbfc16e967f",
   "outputs": [
    {
     "name": "stderr",
     "output_type": "stream",
     "text": [
      "100%|██████████| 15000/15000 [01:55<00:00, 130.19it/s]\n"
     ]
    },
    {
     "data": {
      "text/plain": [
       "<Figure size 640x480 with 1 Axes>"
      ],
      "image/png": "[encoded data removed]"
     },
     "metadata": {},
     "output_type": "display_data",
     "jetTransient": {
      "display_id": null
     }
    }
   ],
   "execution_count": 172
  },
  {
   "metadata": {
    "ExecuteTime": {
     "end_time": "2025-09-18T04:45:26.791047Z",
     "start_time": "2025-09-18T04:45:26.787005Z"
    }
   },
   "cell_type": "code",
   "source": "trainer",
   "id": "423eee0e111017db",
   "outputs": [
    {
     "data": {
      "text/plain": [
       "<generator object training_loop at 0x000002929B5B3320>"
      ]
     },
     "execution_count": 173,
     "metadata": {},
     "output_type": "execute_result"
    }
   ],
   "execution_count": 173
  },
  {
   "metadata": {},
   "cell_type": "markdown",
   "source": "Now we first do a sampling algorithm. We use https://github.com/yuanchenyang/smalldiffusion/blob/fc267d87e1efe552e16ecabc764bb9ab935434d9/src/smalldiffusion/diffusion.py code.",
   "id": "53c05db9c4538227"
  },
  {
   "metadata": {
    "ExecuteTime": {
     "end_time": "2025-09-18T04:45:26.996582Z",
     "start_time": "2025-09-18T04:45:26.859550Z"
    }
   },
   "cell_type": "code",
   "source": [
    "# Generalizes most commonly-used samplers:\n",
    "#   DDPM       : gam=1, mu=0.5\n",
    "#   DDIM       : gam=1, mu=0\n",
    "#   Accelerated: gam=2, mu=0\n",
    "@torch.no_grad()\n",
    "def samples(model      : nn.Module,\n",
    "            sigmas     : torch.FloatTensor, # Iterable with N+1 values for N sampling steps\n",
    "            gam        : float = 1.,        # Suggested to use gam >= 1\n",
    "            mu         : float = 0.,        # Requires mu in [0, 1)\n",
    "            cfg_scale  : int = 0.,          # 0 means no classifier-free guidance\n",
    "            batchsize  : int = 1,\n",
    "            xt         : Optional[torch.FloatTensor] = None,\n",
    "            cond       : Optional[torch.Tensor] = None,\n",
    "            accelerator: Optional[Accelerator] = None):\n",
    "    model.eval()\n",
    "    accelerator = accelerator or Accelerator()\n",
    "    xt = model.rand_input(batchsize).to(accelerator.device) * sigmas[0] if xt is None else xt\n",
    "    if cond is not None:\n",
    "        assert cond.shape[0] == xt.shape[0], 'cond must have same shape as x!'\n",
    "        cond = cond.to(xt.device)\n",
    "    eps = None\n",
    "    for i, (sig, sig_prev) in enumerate(pairwise(sigmas)):\n",
    "        eps_prev, eps = eps, model.predict_eps_cfg(xt, sig.to(xt), cond, cfg_scale)\n",
    "        eps_av = eps * gam + eps_prev * (1-gam)  if i > 0 else eps\n",
    "        sig_p = (sig_prev/sig**mu)**(1/(1-mu)) # sig_prev == sig**mu sig_p**(1-mu)\n",
    "        eta = (sig_prev**2 - sig_p**2).sqrt()\n",
    "        xt = xt - (sig - sig_p) * eps_av + eta * model.rand_input(xt.shape[0]).to(xt)\n",
    "        yield xt\n",
    "\n",
    "*xts, x0 = samples(model, schedule.sample_sigmas(20), batchsize=1500, gam=2, mu=0)\n",
    "plot_batch(x0)"
   ],
   "id": "5d93f7a5028c546e",
   "outputs": [
    {
     "data": {
      "text/plain": [
       "<Figure size 640x480 with 1 Axes>"
      ],
      "image/png": "[encoded data removed]"
     },
     "metadata": {},
     "output_type": "display_data",
     "jetTransient": {
      "display_id": null
     }
    }
   ],
   "execution_count": 174
  },
  {
   "metadata": {
    "ExecuteTime": {
     "end_time": "2025-09-19T05:54:00.795958Z",
     "start_time": "2025-09-19T05:54:00.777961Z"
    }
   },
   "cell_type": "code",
   "source": "print(model)",
   "id": "975b2e91a22c51f9",
   "outputs": [
    {
     "name": "stdout",
     "output_type": "stream",
     "text": [
      "TimeInputMLP(\n",
      "  (net): Sequential(\n",
      "    (0): Linear(in_features=6, out_features=16, bias=True)\n",
      "    (1): GELU(approximate='none')\n",
      "    (2): Linear(in_features=16, out_features=128, bias=True)\n",
      "    (3): GELU(approximate='none')\n",
      "    (4): Linear(in_features=128, out_features=128, bias=True)\n",
      "    (5): GELU(approximate='none')\n",
      "    (6): Linear(in_features=128, out_features=128, bias=True)\n",
      "    (7): GELU(approximate='none')\n",
      "    (8): Linear(in_features=128, out_features=128, bias=True)\n",
      "    (9): GELU(approximate='none')\n",
      "    (10): Linear(in_features=128, out_features=16, bias=True)\n",
      "    (11): GELU(approximate='none')\n",
      "    (12): Linear(in_features=16, out_features=2, bias=True)\n",
      "  )\n",
      ")\n"
     ]
    }
   ],
   "execution_count": 176
  },
  {
   "metadata": {},
   "cell_type": "code",
   "outputs": [],
   "execution_count": null,
   "source": [
    "# First calculate the loss of dataset or our model\n",
    "\n",
    "def get_loss(sigmas: torch.FloatTensor):\n",
    "    pass\n",
    "\n",
    "# Then calculate the derivative of the loss of the sigmas\n",
    "\n",
    "def get_gradient(sigmas: torch.FloatTensor):\n",
    "    pass"
   ],
   "id": "4ef4811a0db83900"
  }
 ],
 "metadata": {
  "kernelspec": {
   "display_name": "Python 3",
   "language": "python",
   "name": "python3"
  },
  "language_info": {
   "codemirror_mode": {
    "name": "ipython",
    "version": 2
   },
   "file_extension": ".py",
   "mimetype": "text/x-python",
   "name": "python",
   "nbconvert_exporter": "python",
   "pygments_lexer": "ipython2",
   "version": "2.7.6"
  }
 },
 "nbformat": 4,
 "nbformat_minor": 5
}
