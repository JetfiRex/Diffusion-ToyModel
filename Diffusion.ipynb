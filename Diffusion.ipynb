{
 "cells": [
  {
   "metadata": {
    "ExecuteTime": {
     "end_time": "2025-09-27T01:26:01.590801Z",
     "start_time": "2025-09-27T01:26:01.585693Z"
    }
   },
   "cell_type": "code",
   "source": [
    "from inspect import stack\n",
    "\n",
    "import numpy as np\n",
    "import torch\n",
    "import matplotlib.pyplot as plt\n",
    "from torch.utils.data import DataLoader\n",
    "from smalldiffusion import (\n",
    "    TimeInputMLP, ScheduleLogLinear, training_loop, samples,\n",
    "    DatasaurusDozen, Swissroll\n",
    ")\n",
    "def moving_average(x, w):\n",
    "    return np.convolve(x, np.ones(w), 'valid') / w\n",
    "\n",
    "def plot_batch(batch):\n",
    "    batch = batch.cpu().numpy()\n",
    "    plt.scatter(batch[:,0], batch[:,1], marker='.')"
   ],
   "id": "79a1b3b3bf2cc8af",
   "outputs": [],
   "execution_count": 2
  },
  {
   "metadata": {},
   "cell_type": "markdown",
   "source": [
    "# 1. Infrastucture\n",
    "\n",
    "Here, we build a model to un the code."
   ],
   "id": "ec866ea3602426bc"
  },
  {
   "metadata": {},
   "cell_type": "markdown",
   "source": "This is a 2-d dataset of mixed Gaussian.",
   "id": "a8fe88f48119597d"
  },
  {
   "metadata": {
    "ExecuteTime": {
     "end_time": "2025-09-27T01:26:01.612853Z",
     "start_time": "2025-09-27T01:26:01.606402Z"
    }
   },
   "cell_type": "code",
   "source": [
    "N = 1000\n",
    "dataset = (torch.randint(0,2,(N,1))*2-1)+torch.randn((N,2))*0.2"
   ],
   "id": "95d22d86c8765274",
   "outputs": [],
   "execution_count": 3
  },
  {
   "metadata": {
    "ExecuteTime": {
     "end_time": "2025-09-27T01:26:01.826006Z",
     "start_time": "2025-09-27T01:26:01.622989Z"
    }
   },
   "cell_type": "code",
   "source": "plt.scatter(dataset[:,0],dataset[:,1])",
   "id": "516fcddccd989a8b",
   "outputs": [
    {
     "data": {
      "text/plain": [
       "<matplotlib.collections.PathCollection at 0x20462000050>"
      ]
     },
     "execution_count": 4,
     "metadata": {},
     "output_type": "execute_result"
    },
    {
     "data": {
      "text/plain": [
       "<Figure size 640x480 with 1 Axes>"
      ],
      "image/png": "[encoded data removed]"
     },
     "metadata": {},
     "output_type": "display_data",
     "jetTransient": {
      "display_id": null
     }
    }
   ],
   "execution_count": 4
  },
  {
   "metadata": {},
   "cell_type": "markdown",
   "source": "The following code is copied from https://github.com/yuanchenyang/smalldiffusion/blob/fc267d87e1efe552e16ecabc764bb9ab935434d9/src/smalldiffusion/diffusion.py but modified as a 2-d noise.",
   "id": "5ee93246a21a7356"
  },
  {
   "metadata": {
    "ExecuteTime": {
     "end_time": "2025-09-27T01:26:01.852121Z",
     "start_time": "2025-09-27T01:26:01.841636Z"
    }
   },
   "cell_type": "code",
   "source": [
    "import math\n",
    "from itertools import pairwise\n",
    "\n",
    "import torch\n",
    "import numpy as np\n",
    "from accelerate import Accelerator\n",
    "from torch import nn\n",
    "from torch.utils.data import DataLoader\n",
    "from tqdm import tqdm\n",
    "from types import SimpleNamespace\n",
    "from typing import Optional, Union, Tuple\n",
    "\n",
    "class Schedule:\n",
    "    '''Diffusion noise schedules parameterized by sigma'''\n",
    "    def __init__(self, sigmas: torch.FloatTensor):\n",
    "        self.sigmas = sigmas\n",
    "\n",
    "    def __getitem__(self, i) -> torch.FloatTensor:\n",
    "        return self.sigmas[i]\n",
    "\n",
    "    def __len__(self) -> int:\n",
    "        return len(self.sigmas)\n",
    "\n",
    "    def sample_sigmas(self, steps: int) -> torch.FloatTensor:\n",
    "        '''Called during sampling to get a decreasing sigma schedule with a\n",
    "        specified number of sampling steps:\n",
    "          - Spacing is \"trailing\" as in Table 2 of https://arxiv.org/abs/2305.08891\n",
    "          - Includes initial and final sigmas\n",
    "            i.e. len(schedule.sample_sigmas(steps)) == steps + 1\n",
    "        '''\n",
    "        indices = list((len(self) * (1 - np.arange(0, steps)/steps))\n",
    "                       .round().astype(np.int64) - 1)\n",
    "        return self[indices + [0]]\n",
    "\n",
    "    def sample_batch(self, x0: torch.FloatTensor) -> torch.FloatTensor:\n",
    "        '''Called during training to get a batch of randomly sampled sigma values\n",
    "        '''\n",
    "        batchsize = x0.shape[0]\n",
    "        return self[torch.randint(len(self), (batchsize,))].to(x0)\n",
    "\n",
    "def sigmas_from_betas(betas: torch.FloatTensor):\n",
    "    return (1/torch.cumprod(1.0 - betas, dim=0) - 1).sqrt()\n",
    "\n",
    "# Simple log-linear schedule works for training many diffusion models\n",
    "class ScheduleLogLinear(Schedule):\n",
    "    def __init__(self, N: int, sigma_min: float=0.02, sigma_max: float=10):\n",
    "        super().__init__(torch.logspace(math.log10(sigma_min), math.log10(sigma_max), N))\n",
    "\n",
    "# Default parameters recover schedule used in most diffusion models\n",
    "class ScheduleDDPM(Schedule):\n",
    "    def __init__(self, N: int=1000, beta_start: float=0.0001, beta_end: float=0.02):\n",
    "        super().__init__(sigmas_from_betas(torch.linspace(beta_start, beta_end, N)))\n",
    "\n",
    "# Default parameters recover schedule used in most latent diffusion models, e.g. Stable diffusion\n",
    "class ScheduleLDM(Schedule):\n",
    "    def __init__(self, N: int=1000, beta_start: float=0.00085, beta_end: float=0.012):\n",
    "        super().__init__(sigmas_from_betas(torch.linspace(beta_start**0.5, beta_end**0.5, N)**2))\n",
    "\n",
    "# Sigmoid schedule used in GeoDiff\n",
    "class ScheduleSigmoid(Schedule):\n",
    "    def __init__(self, N: int=1000, beta_start: float=0.0001, beta_end: float=0.02):\n",
    "        betas = torch.sigmoid(torch.linspace(-6, 6, N)) * (beta_end - beta_start) + beta_start\n",
    "        super().__init__(sigmas_from_betas(betas))\n",
    "\n",
    "# Cosine schedule used in Nichol and Dhariwal 2021\n",
    "class ScheduleCosine(Schedule):\n",
    "    def __init__(self, N: int=1000, beta_start: float=0.0001, beta_end: float=0.02, max_beta: float=0.999):\n",
    "        alpha_bar = lambda t: np.cos((t + 0.008) / 1.008 * np.pi / 2) ** 2\n",
    "        betas = [min(1 - alpha_bar((i+1)/N)/alpha_bar(i/N), max_beta)\n",
    "                 for i in range(N)]\n",
    "        super().__init__(sigmas_from_betas(torch.tensor(betas, dtype=torch.float32)))\n",
    "\n",
    "'''\n",
    "From now on, the part of training samples is changed\n",
    "'''\n",
    "# Given a batch of data\n",
    "#   x0   : Either a data tensor or a tuple of (data, labels)\n",
    "# Returns\n",
    "#   eps  : i.i.d. normal with same shape as x0\n",
    "#   sigma: uniformly sampled from schedule, with shape **same as the dataset**\n",
    "def generate_train_sample(x0: Union[torch.FloatTensor, Tuple[torch.FloatTensor, torch.FloatTensor]],\n",
    "                          schedule: Schedule, conditional: bool=False):\n",
    "    cond = x0[1] if conditional else None\n",
    "    x0   = x0[0] if conditional else x0\n",
    "    sigmas = torch.as_tensor(schedule.sigmas, device=x0.device, dtype=x0.dtype)   # make once if reused\n",
    "    idx  = torch.randint(len(sigmas), size=x0.shape, device=x0.device)\n",
    "    sigma = sigmas[idx]\n",
    "    # while len(sigma.shape) < len(x0.shape):\n",
    "    #     sigma = sigma.unsqueeze(-1)\n",
    "    eps = torch.randn_like(x0)\n",
    "    return x0, sigma, eps, cond\n",
    "\n",
    "# Model objects\n",
    "# Always called with (x, sigma):\n",
    "#   If x.shape == [B, D1, ..., Dk], sigma.shape == [] or [B, 1, ..., 1].\n",
    "#   If sigma.shape == [], model will be called with the same sigma for each x0\n",
    "#   Otherwise, x[i] will be paired with sigma[i] when calling model\n",
    "# Have a `rand_input` method for generating random xt during sampling\n",
    "\n",
    "def training_loop(loader      : DataLoader,\n",
    "                  model       : nn.Module,\n",
    "                  schedule    : Schedule,\n",
    "                  accelerator : Optional[Accelerator] = None,\n",
    "                  epochs      : int = 10000,\n",
    "                  lr          : float = 1e-3,\n",
    "                  conditional : bool = False):\n",
    "    accelerator = accelerator or Accelerator()\n",
    "    optimizer = torch.optim.AdamW(model.parameters(), lr=lr)\n",
    "    model, optimizer, loader = accelerator.prepare(model, optimizer, loader)\n",
    "    for _ in (pbar := tqdm(range(epochs))):\n",
    "        for x0 in loader:\n",
    "            model.train()\n",
    "            optimizer.zero_grad()\n",
    "            x0, sigma, eps, cond = generate_train_sample(x0, schedule, conditional)\n",
    "            loss = model.get_loss(x0, sigma, eps, cond=cond)\n",
    "            yield SimpleNamespace(**locals()) # For extracting training statistics\n",
    "            accelerator.backward(loss)\n",
    "            optimizer.step()\n"
   ],
   "id": "e3d3b9cb39872bdd",
   "outputs": [],
   "execution_count": 5
  },
  {
   "metadata": {},
   "cell_type": "markdown",
   "source": [
    "Now we use the codes of https://github.com/yuanchenyang/smalldiffusion/blob/main/src/smalldiffusion/model.py to build a tiny model.\n",
    "\n",
    "Please note that we have changed the variables. Our model is\n",
    "$$X(t)=\\sqrt{\\frac{v(t)}{v(t)+1}}X_0\\mathrm dt+\\sqrt\\frac{1}{v(t)+1}Z,$$\n",
    "\n",
    "Where $Z$ is $\\mathcal N(0,1)$. Because of the template, I make `sigma` as $v$ here."
   ],
   "id": "55656d3b812d7be0"
  },
  {
   "metadata": {
    "ExecuteTime": {
     "end_time": "2025-09-27T01:26:01.867654Z",
     "start_time": "2025-09-27T01:26:01.857732Z"
    }
   },
   "cell_type": "code",
   "source": [
    "import math\n",
    "import torch\n",
    "import torch.nn.functional as F\n",
    "from torch import nn\n",
    "from einops import rearrange, repeat\n",
    "from itertools import pairwise\n",
    "\n",
    "\n",
    "## Basic functions used by all models\n",
    "\n",
    "class ModelMixin:\n",
    "    def rand_input(self, batchsize):\n",
    "        assert hasattr(self, 'input_dims'), 'Model must have \"input_dims\" attribute!'\n",
    "        return torch.randn((batchsize,) + self.input_dims)\n",
    "\n",
    "    # Currently predicts eps, override following methods to predict, for example, x0\n",
    "    def get_loss(self, x0, sigma, eps, cond=None, loss=nn.MSELoss):\n",
    "        return loss()(eps, self(x0 + sigma * eps, sigma, cond=cond))\n",
    "\n",
    "    def predict_eps(self, x, sigma, cond=None):\n",
    "        return self(x, sigma, cond=cond)\n",
    "\n",
    "    def predict_eps_cfg(self, x, sigma, cond, cfg_scale):\n",
    "        if cond is None or cfg_scale == 0:\n",
    "            return self.predict_eps(x, sigma, cond=cond)\n",
    "        assert sigma.shape == tuple(), 'CFG sampling only supports singleton sigma!'\n",
    "        uncond = torch.full_like(cond, self.cond_embed.null_cond) # (B,)\n",
    "        eps_cond, eps_uncond = self.predict_eps(                  # (B,), (B,)\n",
    "            torch.cat([x, x]), sigma, torch.cat([cond, uncond])   # (2B,)\n",
    "        ).chunk(2)\n",
    "        return eps_cond + cfg_scale * (eps_cond - eps_uncond)\n",
    "\n",
    "def get_sigma_embeds(batches, sigma, scaling_factor=0.5, log_scale=True):\n",
    "    if sigma.shape == torch.Size([]):\n",
    "        sigma = sigma.unsqueeze(0).repeat(batches)\n",
    "    else:\n",
    "        assert sigma.shape == (batches,), 'sigma.shape == [] or [batches]!'\n",
    "    if log_scale:\n",
    "        sigma = torch.log(sigma)\n",
    "    s = sigma.unsqueeze(1) * scaling_factor\n",
    "    return torch.cat([torch.sin(s), torch.cos(s)], dim=1)\n",
    "\n",
    "# We allow three types of sigma here.\n",
    "# 1. The scalar.\n",
    "# 2. High dimensional sigmas, and the sigma is the same as dataset. (remember! x0.shape[1] is batchsize.)\n",
    "# 3. High dimensional sigmas and the sigma is the whole dataset.\n",
    "# All of them are torch.tensor objects.\n",
    "\n",
    "def get_sigma_embeds_hi_dim(x0, sigma, scaling_factor=0.25, log_scale=True):\n",
    "    if sigma.shape == torch.Size([]):\n",
    "        sigma = sigma.unsqueeze(0).repeat(x0.shape)\n",
    "    elif sigma.shape == x0.shape[1:]:\n",
    "        sigma = sigma.unsqueeze(0).repeat((x0.shape[0],)+(1,)*(len(x0.shape)-1))\n",
    "    else:\n",
    "        assert sigma.shape == x0.shape, 'sigma.shape == [] or [batches]!'\n",
    "    if log_scale:\n",
    "        sigma = torch.log(sigma)\n",
    "    s = sigma * scaling_factor\n",
    "    sin_s = torch.sin(s)\n",
    "    cos_s = torch.cos(s)\n",
    "    stacked_s = torch.stack([sin_s, cos_s], dim=1)\n",
    "    result = stacked_s.permute(0, 2, 1).reshape(s.shape[0], 2 * s.shape[1])\n",
    "    return result\n",
    "\n",
    "## Simple MLP for toy examples, modified a bit from the original file.\n",
    "## This is meant to predict x0 though.\n",
    "\n",
    "class HighDimNoise(nn.Module, ModelMixin):\n",
    "    sigma_dim = 2\n",
    "    def __init__(self, dim=2, output_dim=None, hidden_dims=(16,128,256,128,16)):\n",
    "        super().__init__()\n",
    "        layers = []\n",
    "        for in_dim, out_dim in pairwise((dim*3,) + hidden_dims):\n",
    "            layers.extend([nn.Linear(in_dim, out_dim), nn.GELU()])\n",
    "        layers.append(nn.Linear(hidden_dims[-1], output_dim or dim))\n",
    "\n",
    "        self.net = nn.Sequential(*layers)\n",
    "        self.input_dims = (dim,)\n",
    "\n",
    "    def forward(self, x, sigma, cond=None):\n",
    "        # x     shape: b x dim\n",
    "        # sigma shape: b x dim\n",
    "        sigma_embeds = get_sigma_embeds_hi_dim(x, sigma) # shape: b x (2*dim)\n",
    "        nn_input = torch.cat([x, sigma_embeds], dim=1)   # shape: b x (3*dim)\n",
    "        return self.net(nn_input)\n",
    "\n",
    "    def get_loss(self, x0, sigma, eps=None, cond=None, loss=nn.MSELoss):\n",
    "        # print(x0.shape, sigma.shape, eps.shape)\n",
    "        # Please be notice that: in THIS case specifically, x0 and sigma ARE the same shape! NO NEED TO UNSQUEEZE!\n",
    "\n",
    "        noise = 1/(1+sigma)\n",
    "        alpha = 1-noise\n",
    "        if eps is None:\n",
    "            eps = torch.randn_like(x0)\n",
    "\n",
    "        return loss()(x0, self(torch.sqrt(alpha) * x0 + torch.sqrt(noise) * eps, sigma, cond=cond))\n",
    "\n",
    "    def predict_x0(self, x, sigma, cond=None):\n",
    "        x0_hat = self(x, sigma, cond=cond)\n",
    "        return x0_hat\n",
    "\n",
    "    def predict_eps(self, x, sigma, cond=None):\n",
    "        noise = 1/(1+sigma)\n",
    "        alpha = 1-noise\n",
    "        x0_hat = self(x, sigma, cond=cond)\n",
    "        return (x - x0_hat * torch.sqrt(alpha))/(torch.sqrt(noise) + 1e-8)\n"
   ],
   "id": "22c5364bb164732c",
   "outputs": [],
   "execution_count": 6
  },
  {
   "metadata": {},
   "cell_type": "markdown",
   "source": "Now we train!",
   "id": "4ba7daadf4f9f8cb"
  },
  {
   "metadata": {
    "ExecuteTime": {
     "end_time": "2025-09-27T01:28:17.507517Z",
     "start_time": "2025-09-27T01:26:01.875328Z"
    }
   },
   "cell_type": "code",
   "source": [
    "loader = DataLoader(dataset, batch_size=2048)\n",
    "model = HighDimNoise(hidden_dims=(16,128,128,128,128,16))\n",
    "schedule = ScheduleLogLinear(N=200, sigma_min=0.05, sigma_max=1e6)\n",
    "trainer = training_loop(loader, model, schedule, epochs=15000, lr=1e-3)\n",
    "losses = [ns.loss.item() for ns in trainer]\n",
    "plt.plot(moving_average(losses, 100))\n",
    "plt.show()"
   ],
   "id": "7d34cbfc16e967f",
   "outputs": [
    {
     "name": "stderr",
     "output_type": "stream",
     "text": [
      "100%|██████████| 15000/15000 [02:15<00:00, 110.68it/s]\n"
     ]
    },
    {
     "data": {
      "text/plain": [
       "<Figure size 640x480 with 1 Axes>"
      ],
      "image/png": "[encoded data removed]"
     },
     "metadata": {},
     "output_type": "display_data",
     "jetTransient": {
      "display_id": null
     }
    }
   ],
   "execution_count": 7
  },
  {
   "metadata": {
    "ExecuteTime": {
     "end_time": "2025-09-27T01:28:17.546448Z",
     "start_time": "2025-09-27T01:28:17.541644Z"
    }
   },
   "cell_type": "code",
   "source": "trainer",
   "id": "423eee0e111017db",
   "outputs": [
    {
     "data": {
      "text/plain": [
       "<generator object training_loop at 0x0000020461EA2980>"
      ]
     },
     "execution_count": 8,
     "metadata": {},
     "output_type": "execute_result"
    }
   ],
   "execution_count": 8
  },
  {
   "metadata": {},
   "cell_type": "markdown",
   "source": [
    "Now we first do a sampling algorithm. We use https://github.com/yuanchenyang/smalldiffusion/blob/fc267d87e1efe552e16ecabc764bb9ab935434d9/src/smalldiffusion/diffusion.py code.\n",
    "\n",
    "To make the theory clear, we do some calculation. Our model is $X(t)=\\sqrt{\\frac{v(t)}{v(t)+1}}X_0\\mathrm dt+\\sqrt\\frac{1}{v(t)+1}Z$, so the diffusion process is\n",
    "$$\\mathrm dX(t)=\\frac{1}{2}\\cdot\\frac{v'(t)}{v(t)(1+v(t))} X(t)\\mathrm{d}t+\\frac{\\sqrt{-v'(t)}}{\\sqrt{v(t)(1+v(t))}}\\mathrm dB_t..$$\n",
    "\n",
    "Here, please be noticed that $v(t)$ is **decreasing** when the noise is larger.\n",
    "\n",
    "Therefore, the reverse-time diffusion process is (by https://arxiv.org/pdf/2011.13456)\n",
    "$$\\mathrm dX(t)=\\frac{v'(t)}{v(t)(1+v(t))}\\left(\\frac{1}{2} X(t)+\\nabla_x\\log p_t(X_t)\\right)\\mathrm{d}t+\\frac{\\sqrt{-v'(t)}}{\\sqrt{v(t)(1+v(t))}}\\mathrm dB_t.$$\n",
    "\n",
    "Then, by Tweedie's formula, we have\n",
    "$$\\frac{\\partial}{\\partial X}\\log p_t(X) =\\frac{\\sqrt{\\frac{v(t)}{v(t)+1}}\\mathbb E[X(0)|v(t),X(t)]-X(t)}{1/(1+v(t))}.$$\n",
    "\n",
    "Therefore, plugging the Tweedie's formula, we have\n",
    "\\begin{align}\n",
    "\\mathrm dX(t)=&\\frac{v'(t)}{v(t)(1+v(t))}\\left(\\frac{1}{2} X(t)+\\frac{\\sqrt{\\frac{v(t)}{v(t)+1}}\\mathbb E[X(0)|v(t),X(t)]-X(t)}{1/(1+v(t))}\\right)\\mathrm{d}t+\\frac{\\sqrt{-v'(t)}}{\\sqrt{v(t)(1+v(t))}}\\mathrm dB_t\\\\\n",
    "=&-\\frac{v'(t)}{v(t)(1+v(t))}\\frac{1+2v(t)}{2}\\mathrm dt+\\left(\\frac{v'(t)}{\\sqrt{{v(t)}{(v(t)+1)}}}\\mathbb E[X(0)|v(t),X(t)]\\right)\\mathrm{d}t+\\frac{\\sqrt{-v'(t)}}{\\sqrt{v(t)(1+v(t))}}\\mathrm dB_t\n",
    "\\end{align}\n",
    "\n",
    "Now we derive the denoising step. We want to calculate $A, B, C$ for the DDPM-like sampling step:\n",
    "$$X_{v'} = AX_v + B\\hat X_0 + C Z.$$\n",
    "\n",
    "We have\n",
    "$$A = \\exp\\left(\\int_{v}^{v'}-\\frac{\\mathrm du}{u(1+u)}\\frac{1+2u}{2}\\right)=\\sqrt\\frac{v(v+1)}{v'(v'+1)}.$$\n",
    "$$B = \\int_{v}^{v'} \\frac{1}{\\sqrt{u(1+u)}}\\exp\\left(\\int_{u}^{v'}-\\frac{\\mathrm dt}{t(1+t)}\\frac{1+2t}{2}\\mathrm dt\\right){\\mathrm du}=\\int_{v}^{v'} \\frac{1}{{u(1+u)}}\\sqrt\\frac{u(u+1)}{v'(v'+1)}{\\mathrm du}=\\frac{v'-v}{\\sqrt{v'(v'+1)}}.$$\n",
    "$$C^2 = \\int_{v}^{v'} \\frac{\\mathrm du}{u(1+u)}\\exp\\left(\\int_{u}^{v'}-\\frac{\\mathrm dt}{t(1+t)}\\frac{1+2t}{2}\\mathrm dt\\right)^2=\\int_{v}^{v'} \\frac{\\mathrm du}{u(1+u)}\\frac{u(u+1)}{v'(v'+1)}=\\frac{v'-v}{{v'(v'+1)}}.$$\n",
    "\n",
    "Also, we can use another way to calculate $A,B,C$. We can calculate that $X_{v'}\\sim\\mathcal N(\\sqrt{\\frac{v'}{v'+1}}X_0,\\frac{1}{v'+1})$ and also $X_v|X_{v'}\\sim \\mathcal N(\\sqrt\\frac{(v'+1)v}{v'(v+1)}X_{v'}, \\frac{v'-v}{v'(v+1)})$.\n",
    "\n",
    "Notice that $p(X_{v}|X_{v'},X_0)=p(X_{v}|X_{v'})$ Therefore, we can calculate that the conditional distribution of $X_{v'}|X_0,X_v$ is (by Bayes rule) directly proportional to\n",
    "$$p(X_{v'}|X_0)p(X_{v}|X_{v'})=\\exp\\left(\\frac{(v'+1)}{2}\\|X_{v'}-\\sqrt\\frac{v'}{v'+1}X_{0}\\|^2+\\frac{v'(v+1)}{2(v'-v)}\\|X_{v}-\\sqrt\\frac{(v'+1)v}{v'(v+1)}X_{v'}\\|^2\\right)$$\n",
    "\n",
    "So, collecting the terms, we can calculate that the distribution is\n",
    "$$\\mathcal N(\\sqrt\\frac{v(v+1)}{v'(v'+1)}X_v+\\frac{v'-v}{\\sqrt{v'(v'+1)}}X_0, \\frac{v'-v}{v'(1+v')})$$"
   ],
   "id": "53c05db9c4538227"
  },
  {
   "metadata": {
    "ExecuteTime": {
     "end_time": "2025-09-27T01:28:17.780877Z",
     "start_time": "2025-09-27T01:28:17.627854Z"
    }
   },
   "cell_type": "code",
   "source": [
    "# Generalizes most commonly-used samplers:\n",
    "#   DDPM       : gam=1, mu=0.5\n",
    "#   DDIM       : gam=1, mu=0\n",
    "#   Accelerated: gam=2, mu=0\n",
    "\n",
    "@torch.no_grad()\n",
    "def samples(model      : nn.Module,\n",
    "            sigmas     : torch.FloatTensor, # Iterable with N+1 values for N sampling steps\n",
    "            gam        : float = 1.,        # Suggested to use gam >= 1\n",
    "            mu         : float = 0.,        # Requires mu in [0, 1)\n",
    "            cfg_scale  : int = 0.,          # 0 means no classifier-free guidance\n",
    "            batchsize  : int = 1,\n",
    "            xt         : Optional[torch.FloatTensor] = None,\n",
    "            cond       : Optional[torch.Tensor] = None,\n",
    "            accelerator: Optional[Accelerator] = None):\n",
    "    model.eval()\n",
    "    accelerator = accelerator or Accelerator()\n",
    "    xt = model.rand_input(batchsize).to(accelerator.device) if xt is None else xt\n",
    "    if cond is not None:\n",
    "        assert cond.shape[0] == xt.shape[0], 'cond must have same shape as x!'\n",
    "        cond = cond.to(xt.device)\n",
    "    x0 = None\n",
    "    for i, (sig_prev, sig) in enumerate(pairwise(sigmas)):\n",
    "        x0_prev, x0 = x0, model.predict_x0(xt, sig.to(xt), cond)\n",
    "        x0_av = x0 * gam + x0_prev * (1-gam)  if i > 0 else x0\n",
    "        xt_coef = torch.sqrt((sig_prev*(sig_prev+1)) / (sig*(sig+1)))\n",
    "        x0_coef = (sig - sig_prev)/torch.sqrt(sig*(sig+1))\n",
    "        eta = torch.sqrt(sig - sig_prev)/torch.sqrt(sig*(sig+1))\n",
    "        xt = xt * xt_coef + x0_av * x0_coef + eta * model.rand_input(xt.shape[0]).to(xt)\n",
    "        yield xt\n",
    "\n",
    "*xts, x0 = samples(model, schedule.sample_sigmas(20).flip(0), batchsize=1500, gam=1, mu=0)\n",
    "plot_batch(x0)"
   ],
   "id": "31f228676bb80ceb",
   "outputs": [
    {
     "data": {
      "text/plain": [
       "<Figure size 640x480 with 1 Axes>"
      ],
      "image/png": "[encoded data removed]"
     },
     "metadata": {},
     "output_type": "display_data",
     "jetTransient": {
      "display_id": null
     }
    }
   ],
   "execution_count": 9
  },
  {
   "metadata": {},
   "cell_type": "markdown",
   "source": "# 2. Calculate the losses",
   "id": "8fb508eca8dab1fc"
  },
  {
   "metadata": {},
   "cell_type": "markdown",
   "source": "Consider the losses of each pixel. We first code for the infrastructure of calculating the losses.",
   "id": "b249c48df7acb36b"
  },
  {
   "metadata": {
    "ExecuteTime": {
     "end_time": "2025-09-27T01:28:17.791968Z",
     "start_time": "2025-09-27T01:28:17.787605Z"
    }
   },
   "cell_type": "code",
   "source": [
    "# First calculate the loss of dataset or our model\n",
    "# x0 are the original dataset,\n",
    "# sigmas are either scalar (all of same noise) or a tensor same as each data in x0.\n",
    "\n",
    "def get_loss_grad(model: nn.Module,\n",
    "             x0: torch.FloatTensor,\n",
    "             sigmas: torch.FloatTensor):\n",
    "    sigma_grad = sigmas.detach().clone().requires_grad_(True)\n",
    "    loss = model.get_loss(x0, sigma_grad)\n",
    "    return torch.autograd.grad(loss, sigma_grad)"
   ],
   "id": "3dd410dcc5f7344",
   "outputs": [],
   "execution_count": 10
  },
  {
   "metadata": {
    "ExecuteTime": {
     "end_time": "2025-09-27T01:28:19.255608Z",
     "start_time": "2025-09-27T01:28:17.819045Z"
    }
   },
   "cell_type": "code",
   "source": [
    "grad = torch.tensor([get_loss_grad(model, x0, sigma) for sigma in schedule.sigmas])\n",
    "grad = grad.squeeze()"
   ],
   "id": "dc91ee72625e2ecf",
   "outputs": [],
   "execution_count": 11
  },
  {
   "metadata": {
    "ExecuteTime": {
     "end_time": "2025-09-27T01:28:19.750874Z",
     "start_time": "2025-09-27T01:28:19.268195Z"
    }
   },
   "cell_type": "code",
   "source": [
    "import matplotlib.pyplot as plt\n",
    "plt.scatter((1+schedule.sigmas).numpy(), abs(grad.numpy()))\n",
    "plt.xscale(\"log\")\n",
    "plt.yscale(\"log\")\n",
    "plt.show()"
   ],
   "id": "6f17614545be2d39",
   "outputs": [
    {
     "data": {
      "text/plain": [
       "<Figure size 640x480 with 1 Axes>"
      ],
      "image/png": "[encoded data removed]"
     },
     "metadata": {},
     "output_type": "display_data",
     "jetTransient": {
      "display_id": null
     }
    }
   ],
   "execution_count": 12
  },
  {
   "metadata": {
    "ExecuteTime": {
     "end_time": "2025-09-27T01:28:20.890434Z",
     "start_time": "2025-09-27T01:28:19.760839Z"
    }
   },
   "cell_type": "code",
   "source": [
    "loss = torch.tensor([model.get_loss(x0, sigma) for sigma in schedule.sigmas])\n",
    "loss = loss.detach().squeeze()"
   ],
   "id": "9e1287a0e6fa3d42",
   "outputs": [
    {
     "name": "stderr",
     "output_type": "stream",
     "text": [
      "C:\\Users\\57517\\AppData\\Local\\Temp\\ipykernel_92732\\2726861367.py:1: UserWarning: Converting a tensor with requires_grad=True to a scalar may lead to unexpected behavior.\n",
      "Consider using tensor.detach() first. (Triggered internally at C:\\actions-runner\\_work\\pytorch\\pytorch\\pytorch\\torch\\csrc\\autograd\\generated\\python_variable_methods.cpp:836.)\n",
      "  loss = torch.tensor([model.get_loss(x0, sigma) for sigma in schedule.sigmas])\n"
     ]
    }
   ],
   "execution_count": 13
  },
  {
   "metadata": {
    "ExecuteTime": {
     "end_time": "2025-09-27T01:28:21.271699Z",
     "start_time": "2025-09-27T01:28:20.901244Z"
    }
   },
   "cell_type": "code",
   "source": [
    "import matplotlib.pyplot as plt\n",
    "plt.scatter(((1+schedule.sigmas)).numpy(), abs(loss.numpy()))\n",
    "plt.xscale(\"log\")\n",
    "plt.yscale(\"log\")\n",
    "plt.show()"
   ],
   "id": "83ea964026032195",
   "outputs": [
    {
     "data": {
      "text/plain": [
       "<Figure size 640x480 with 1 Axes>"
      ],
      "image/png": "[encoded data removed]"
     },
     "metadata": {},
     "output_type": "display_data",
     "jetTransient": {
      "display_id": null
     }
    }
   ],
   "execution_count": 14
  },
  {
   "metadata": {},
   "cell_type": "markdown",
   "source": "Therefore, we can roughly see that the loss is of scale $1/(1+v_i)$ and also the gradiant of loss is of scale $1/(1+v_1)^2$, which is reasonable.",
   "id": "549ee43c81cee980"
  },
  {
   "metadata": {
    "ExecuteTime": {
     "end_time": "2025-09-27T01:28:21.284507Z",
     "start_time": "2025-09-27T01:28:21.278159Z"
    }
   },
   "cell_type": "code",
   "source": [
    "# First calculate the loss of dataset or our model\n",
    "# x0 are the original dataset,\n",
    "# sigmas are either scalar (all of same noise) or a tensor same as each data in x0.\n",
    "\n",
    "def get_loss_hi_dim(model: nn.Module,\n",
    "             x0: torch.FloatTensor,\n",
    "             sigmas: torch.FloatTensor):\n",
    "    sigma_grad = sigmas.detach().clone().requires_grad_(True)\n",
    "    eps = torch.randn_like(x0)\n",
    "    alpha = sigma_grad/(1+sigma_grad)\n",
    "    noise = 1/(1+sigma_grad)\n",
    "    x0_hat = model(torch.sqrt(alpha) * x0 + torch.sqrt(noise) * eps, sigma_grad)\n",
    "    return torch.mean((x0_hat-x0)**2, dim=0)\n",
    "\n",
    "def get_loss_hi_dim_grad(model: nn.Module,\n",
    "             x0: torch.FloatTensor,\n",
    "             sigmas: torch.FloatTensor):\n",
    "    sigma_grad = sigmas.detach().clone().requires_grad_(True)\n",
    "    def loss(sigmas):\n",
    "        eps = torch.randn_like(x0)\n",
    "        alpha = sigmas/(1+sigmas)\n",
    "        noise = 1/(1+sigmas)\n",
    "        x0_hat = model(torch.sqrt(alpha) * x0 + torch.sqrt(noise) * eps, sigmas)\n",
    "        return torch.mean((x0_hat-x0)**2, dim=0)\n",
    "    return torch.autograd.functional.jacobian(loss, sigma_grad)"
   ],
   "id": "dec4620450959a05",
   "outputs": [],
   "execution_count": 15
  },
  {
   "metadata": {},
   "cell_type": "markdown",
   "source": "Now we test some data.",
   "id": "ed493f05b42af78c"
  },
  {
   "metadata": {
    "ExecuteTime": {
     "end_time": "2025-09-27T01:28:21.312620Z",
     "start_time": "2025-09-27T01:28:21.309247Z"
    }
   },
   "cell_type": "code",
   "source": "sigma_grad = torch.tensor([49.0,99.0], requires_grad=True)",
   "id": "8bb5fbe48df3628e",
   "outputs": [],
   "execution_count": 16
  },
  {
   "metadata": {
    "ExecuteTime": {
     "end_time": "2025-09-27T01:28:21.365Z",
     "start_time": "2025-09-27T01:28:21.325628Z"
    }
   },
   "cell_type": "code",
   "source": "get_loss_hi_dim_grad(model, x0, sigma_grad)",
   "id": "986b2569c34f4b75",
   "outputs": [
    {
     "data": {
      "text/plain": [
       "tensor([[-2.4372e-04, -2.0582e-06],\n",
       "        [-2.3934e-06, -7.0110e-05]])"
      ]
     },
     "execution_count": 17,
     "metadata": {},
     "output_type": "execute_result"
    }
   ],
   "execution_count": 17
  },
  {
   "metadata": {
    "ExecuteTime": {
     "end_time": "2025-09-27T01:28:21.422292Z",
     "start_time": "2025-09-27T01:28:21.404690Z"
    }
   },
   "cell_type": "code",
   "source": "get_loss_hi_dim(model, x0, sigma_grad)",
   "id": "e21afd2239a573cf",
   "outputs": [
    {
     "data": {
      "text/plain": [
       "tensor([0.0150, 0.0086], grad_fn=<MeanBackward1>)"
      ]
     },
     "execution_count": 18,
     "metadata": {},
     "output_type": "execute_result"
    }
   ],
   "execution_count": 18
  },
  {
   "metadata": {
    "ExecuteTime": {
     "end_time": "2025-09-27T01:28:21.521012Z",
     "start_time": "2025-09-27T01:28:21.499634Z"
    }
   },
   "cell_type": "code",
   "source": [
    "# Try another set\n",
    "sigma_grad = torch.tensor([4.0,9.0], requires_grad=True)\n",
    "get_loss_hi_dim_grad(model, x0, sigma_grad), get_loss_hi_dim(model, x0, sigma_grad)"
   ],
   "id": "af48ece28a17ffad",
   "outputs": [
    {
     "data": {
      "text/plain": [
       "(tensor([[-0.0036, -0.0005],\n",
       "         [-0.0008, -0.0021]]),\n",
       " tensor([0.0525, 0.0417], grad_fn=<MeanBackward1>))"
      ]
     },
     "execution_count": 19,
     "metadata": {},
     "output_type": "execute_result"
    }
   ],
   "execution_count": 19
  },
  {
   "metadata": {},
   "cell_type": "markdown",
   "source": "So aside from the scales of the noises and gradients, we can also observe (roughly) that the Jacobian matrix (gradiant) of the error with respect to the SNR's ($v_i$'s) is roughly diagonal.",
   "id": "2890ed6b7326bb6e"
  },
  {
   "metadata": {},
   "cell_type": "markdown",
   "source": "# 3. Algorithm",
   "id": "83042f4ab821882a"
  },
  {
   "metadata": {
    "ExecuteTime": {
     "end_time": "2025-09-27T01:28:21.589608Z",
     "start_time": "2025-09-27T01:28:21.587503Z"
    }
   },
   "cell_type": "code",
   "source": "",
   "id": "c6e5620d9433fd27",
   "outputs": [],
   "execution_count": null
  }
 ],
 "metadata": {
  "kernelspec": {
   "display_name": "Python 3",
   "language": "python",
   "name": "python3"
  },
  "language_info": {
   "codemirror_mode": {
    "name": "ipython",
    "version": 2
   },
   "file_extension": ".py",
   "mimetype": "text/x-python",
   "name": "python",
   "nbconvert_exporter": "python",
   "pygments_lexer": "ipython2",
   "version": "2.7.6"
  }
 },
 "nbformat": 4,
 "nbformat_minor": 5
}
